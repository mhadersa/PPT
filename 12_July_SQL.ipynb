{
 "cells": [
  {
   "cell_type": "code",
   "execution_count": 4,
   "id": "48bcabba",
   "metadata": {},
   "outputs": [
    {
     "name": "stdout",
     "output_type": "stream",
     "text": [
      "Requirement already satisfied: ipython-sql in c:\\users\\heman\\anaconda3\\lib\\site-packages (0.5.0)\n",
      "Requirement already satisfied: ipython-genutils in c:\\users\\heman\\anaconda3\\lib\\site-packages (from ipython-sql) (0.2.0)\n",
      "Requirement already satisfied: sqlparse in c:\\users\\heman\\anaconda3\\lib\\site-packages (from ipython-sql) (0.4.4)\n",
      "Requirement already satisfied: sqlalchemy>=2.0 in c:\\users\\heman\\anaconda3\\lib\\site-packages (from ipython-sql) (2.0.18)\n",
      "Requirement already satisfied: prettytable in c:\\users\\heman\\anaconda3\\lib\\site-packages (from ipython-sql) (3.8.0)\n",
      "Requirement already satisfied: ipython in c:\\users\\heman\\anaconda3\\lib\\site-packages (from ipython-sql) (8.10.0)\n",
      "Requirement already satisfied: six in c:\\users\\heman\\anaconda3\\lib\\site-packages (from ipython-sql) (1.16.0)\n",
      "Requirement already satisfied: typing-extensions>=4.2.0 in c:\\users\\heman\\anaconda3\\lib\\site-packages (from sqlalchemy>=2.0->ipython-sql) (4.4.0)\n",
      "Requirement already satisfied: greenlet!=0.4.17 in c:\\users\\heman\\anaconda3\\lib\\site-packages (from sqlalchemy>=2.0->ipython-sql) (2.0.1)\n",
      "Requirement already satisfied: prompt-toolkit<3.1.0,>=3.0.30 in c:\\users\\heman\\anaconda3\\lib\\site-packages (from ipython->ipython-sql) (3.0.36)\n",
      "Requirement already satisfied: pickleshare in c:\\users\\heman\\anaconda3\\lib\\site-packages (from ipython->ipython-sql) (0.7.5)\n",
      "Requirement already satisfied: decorator in c:\\users\\heman\\anaconda3\\lib\\site-packages (from ipython->ipython-sql) (5.1.1)\n",
      "Requirement already satisfied: jedi>=0.16 in c:\\users\\heman\\anaconda3\\lib\\site-packages (from ipython->ipython-sql) (0.18.1)\n",
      "Requirement already satisfied: traitlets>=5 in c:\\users\\heman\\anaconda3\\lib\\site-packages (from ipython->ipython-sql) (5.7.1)\n",
      "Requirement already satisfied: stack-data in c:\\users\\heman\\anaconda3\\lib\\site-packages (from ipython->ipython-sql) (0.2.0)\n",
      "Requirement already satisfied: colorama in c:\\users\\heman\\anaconda3\\lib\\site-packages (from ipython->ipython-sql) (0.4.6)\n",
      "Requirement already satisfied: pygments>=2.4.0 in c:\\users\\heman\\anaconda3\\lib\\site-packages (from ipython->ipython-sql) (2.11.2)\n",
      "Requirement already satisfied: matplotlib-inline in c:\\users\\heman\\anaconda3\\lib\\site-packages (from ipython->ipython-sql) (0.1.6)\n",
      "Requirement already satisfied: backcall in c:\\users\\heman\\anaconda3\\lib\\site-packages (from ipython->ipython-sql) (0.2.0)\n",
      "Requirement already satisfied: wcwidth in c:\\users\\heman\\anaconda3\\lib\\site-packages (from prettytable->ipython-sql) (0.2.5)\n",
      "Requirement already satisfied: parso<0.9.0,>=0.8.0 in c:\\users\\heman\\anaconda3\\lib\\site-packages (from jedi>=0.16->ipython->ipython-sql) (0.8.3)\n",
      "Requirement already satisfied: executing in c:\\users\\heman\\anaconda3\\lib\\site-packages (from stack-data->ipython->ipython-sql) (0.8.3)\n",
      "Requirement already satisfied: asttokens in c:\\users\\heman\\anaconda3\\lib\\site-packages (from stack-data->ipython->ipython-sql) (2.0.5)\n",
      "Requirement already satisfied: pure-eval in c:\\users\\heman\\anaconda3\\lib\\site-packages (from stack-data->ipython->ipython-sql) (0.2.2)\n"
     ]
    }
   ],
   "source": [
    "!pip install ipython-sql"
   ]
  },
  {
   "cell_type": "code",
   "execution_count": 5,
   "id": "76d0e5e8",
   "metadata": {},
   "outputs": [],
   "source": [
    "%load_ext sql"
   ]
  },
  {
   "cell_type": "code",
   "execution_count": 6,
   "id": "ada87740",
   "metadata": {},
   "outputs": [],
   "source": [
    "%sql sqlite://"
   ]
  },
  {
   "cell_type": "code",
   "execution_count": 12,
   "id": "640b9472",
   "metadata": {},
   "outputs": [
    {
     "name": "stdout",
     "output_type": "stream",
     "text": [
      " * sqlite://\n",
      "Done.\n"
     ]
    },
    {
     "data": {
      "text/plain": [
       "[]"
      ]
     },
     "execution_count": 12,
     "metadata": {},
     "output_type": "execute_result"
    }
   ],
   "source": [
    "%%sql\n",
    "CREATE TABLE employees (\n",
    "    empno INT PRIMARY KEY,\n",
    "    ename VARCHAR(10),\n",
    "    job VARCHAR(9),\n",
    "    email VARCHAR(50),\n",
    "    mgr INT NULL,\n",
    "    hiredate DATETIME,\n",
    "    sal NUMERIC(7,2),\n",
    "    comm NUMERIC(7,2) NULL,\n",
    "    dept INT\n",
    ")"
   ]
  },
  {
   "cell_type": "code",
   "execution_count": 13,
   "id": "cb84149c",
   "metadata": {},
   "outputs": [
    {
     "name": "stdout",
     "output_type": "stream",
     "text": [
      " * sqlite://\n",
      "1 rows affected.\n",
      "1 rows affected.\n",
      "1 rows affected.\n",
      "1 rows affected.\n",
      "1 rows affected.\n"
     ]
    },
    {
     "data": {
      "text/plain": [
       "[]"
      ]
     },
     "execution_count": 13,
     "metadata": {},
     "output_type": "execute_result"
    }
   ],
   "source": [
    "%%sql\n",
    "INSERT INTO Employees VALUES\n",
    "  (7369, 'SMITH', 'CLERK','smith@gmail.com', 7902, '17-DEC-1980', 800, NULL, 20);\n",
    "INSERT INTO Employees VALUES\n",
    "  (7499, 'ALLEN', 'SALESMAN','allen@gmail.com', 7698, '20-FEB-1981', 1600, 300, 30);\n",
    "INSERT INTO Employees VALUES\n",
    "  (7521, 'WARD', 'SALESMAN','ward@gmail.com', 7698, '22-FEB-1981', 1250, 500, 30);\n",
    "INSERT INTO Employees VALUES\n",
    "  (7566, 'JONES', 'MANAGER','jones@gmail.com', 7839, '2-APR-1981', 2975, NULL, 20);\n",
    "INSERT INTO Employees VALUES\n",
    "  (7654, 'MARTIN', 'SALESMAN','martin@gmail.com', 7698, '28-SEP-1981', 1250, 1400, 30);"
   ]
  },
  {
   "cell_type": "code",
   "execution_count": 32,
   "id": "8cf864e5",
   "metadata": {},
   "outputs": [
    {
     "name": "stdout",
     "output_type": "stream",
     "text": [
      " * sqlite://\n",
      "Done.\n"
     ]
    },
    {
     "data": {
      "text/html": [
       "<table>\n",
       "    <thead>\n",
       "        <tr>\n",
       "            <th>empno</th>\n",
       "            <th>ename</th>\n",
       "            <th>job</th>\n",
       "            <th>email</th>\n",
       "            <th>mgr</th>\n",
       "            <th>hiredate</th>\n",
       "            <th>sal</th>\n",
       "            <th>comm</th>\n",
       "            <th>dept</th>\n",
       "        </tr>\n",
       "    </thead>\n",
       "    <tbody>\n",
       "        <tr>\n",
       "            <td>7369</td>\n",
       "            <td>SMITH</td>\n",
       "            <td>CLERK</td>\n",
       "            <td>smith@gmail.com</td>\n",
       "            <td>7902</td>\n",
       "            <td>17-DEC-1980</td>\n",
       "            <td>800</td>\n",
       "            <td>None</td>\n",
       "            <td>20</td>\n",
       "        </tr>\n",
       "        <tr>\n",
       "            <td>7499</td>\n",
       "            <td>ALLEN</td>\n",
       "            <td>SALESMAN</td>\n",
       "            <td>allen@gmail.com</td>\n",
       "            <td>7698</td>\n",
       "            <td>20-FEB-1981</td>\n",
       "            <td>1600</td>\n",
       "            <td>300</td>\n",
       "            <td>30</td>\n",
       "        </tr>\n",
       "        <tr>\n",
       "            <td>7521</td>\n",
       "            <td>WARD</td>\n",
       "            <td>SALESMAN</td>\n",
       "            <td>ward@gmail.com</td>\n",
       "            <td>7698</td>\n",
       "            <td>22-FEB-1981</td>\n",
       "            <td>1250</td>\n",
       "            <td>500</td>\n",
       "            <td>30</td>\n",
       "        </tr>\n",
       "        <tr>\n",
       "            <td>7566</td>\n",
       "            <td>JONES</td>\n",
       "            <td>MANAGER</td>\n",
       "            <td>jones@gmail.com</td>\n",
       "            <td>7839</td>\n",
       "            <td>2-APR-1981</td>\n",
       "            <td>2975</td>\n",
       "            <td>None</td>\n",
       "            <td>20</td>\n",
       "        </tr>\n",
       "        <tr>\n",
       "            <td>7654</td>\n",
       "            <td>MARTIN</td>\n",
       "            <td>SALESMAN</td>\n",
       "            <td>martin@gmail.com</td>\n",
       "            <td>7698</td>\n",
       "            <td>28-SEP-1981</td>\n",
       "            <td>1250</td>\n",
       "            <td>1400</td>\n",
       "            <td>30</td>\n",
       "        </tr>\n",
       "    </tbody>\n",
       "</table>"
      ],
      "text/plain": [
       "[(7369, 'SMITH', 'CLERK', 'smith@gmail.com', 7902, '17-DEC-1980', 800, None, 20),\n",
       " (7499, 'ALLEN', 'SALESMAN', 'allen@gmail.com', 7698, '20-FEB-1981', 1600, 300, 30),\n",
       " (7521, 'WARD', 'SALESMAN', 'ward@gmail.com', 7698, '22-FEB-1981', 1250, 500, 30),\n",
       " (7566, 'JONES', 'MANAGER', 'jones@gmail.com', 7839, '2-APR-1981', 2975, None, 20),\n",
       " (7654, 'MARTIN', 'SALESMAN', 'martin@gmail.com', 7698, '28-SEP-1981', 1250, 1400, 30)]"
      ]
     },
     "execution_count": 32,
     "metadata": {},
     "output_type": "execute_result"
    }
   ],
   "source": [
    "%%sql\n",
    "select * from Employees"
   ]
  },
  {
   "cell_type": "code",
   "execution_count": 33,
   "id": "4b01c3df",
   "metadata": {},
   "outputs": [
    {
     "name": "stdout",
     "output_type": "stream",
     "text": [
      " * sqlite://\n",
      "Done.\n"
     ]
    },
    {
     "data": {
      "text/html": [
       "<table>\n",
       "    <thead>\n",
       "        <tr>\n",
       "            <th>ename</th>\n",
       "            <th>email</th>\n",
       "        </tr>\n",
       "    </thead>\n",
       "    <tbody>\n",
       "        <tr>\n",
       "            <td>SMITH</td>\n",
       "            <td>smith@gmail.com</td>\n",
       "        </tr>\n",
       "        <tr>\n",
       "            <td>ALLEN</td>\n",
       "            <td>allen@gmail.com</td>\n",
       "        </tr>\n",
       "        <tr>\n",
       "            <td>WARD</td>\n",
       "            <td>ward@gmail.com</td>\n",
       "        </tr>\n",
       "        <tr>\n",
       "            <td>JONES</td>\n",
       "            <td>jones@gmail.com</td>\n",
       "        </tr>\n",
       "        <tr>\n",
       "            <td>MARTIN</td>\n",
       "            <td>martin@gmail.com</td>\n",
       "        </tr>\n",
       "    </tbody>\n",
       "</table>"
      ],
      "text/plain": [
       "[('SMITH', 'smith@gmail.com'),\n",
       " ('ALLEN', 'allen@gmail.com'),\n",
       " ('WARD', 'ward@gmail.com'),\n",
       " ('JONES', 'jones@gmail.com'),\n",
       " ('MARTIN', 'martin@gmail.com')]"
      ]
     },
     "execution_count": 33,
     "metadata": {},
     "output_type": "execute_result"
    }
   ],
   "source": [
    "%%sql\n",
    "select ename, email from employees;"
   ]
  },
  {
   "cell_type": "code",
   "execution_count": 17,
   "id": "dfadf49a",
   "metadata": {},
   "outputs": [
    {
     "name": "stdout",
     "output_type": "stream",
     "text": [
      " * sqlite://\n",
      "Done.\n"
     ]
    },
    {
     "data": {
      "text/plain": [
       "[]"
      ]
     },
     "execution_count": 17,
     "metadata": {},
     "output_type": "execute_result"
    }
   ],
   "source": [
    "%%sql\n",
    "CREATE TABLE CUSTOMERS(\n",
    "    ID   INT              NOT NULL,\n",
    "    NAME VARCHAR (20)     NOT NULL,\n",
    "    AGE  INT              NOT NULL,\n",
    "    CITY  CHAR (25) ,\n",
    "    SALARY   DECIMAL (18, 2), \n",
    "    PHONE VARCHAR (20)\n",
    ");"
   ]
  },
  {
   "cell_type": "code",
   "execution_count": 18,
   "id": "31a866ef",
   "metadata": {},
   "outputs": [
    {
     "name": "stdout",
     "output_type": "stream",
     "text": [
      " * sqlite://\n",
      "1 rows affected.\n",
      "1 rows affected.\n",
      "1 rows affected.\n"
     ]
    },
    {
     "data": {
      "text/plain": [
       "[]"
      ]
     },
     "execution_count": 18,
     "metadata": {},
     "output_type": "execute_result"
    }
   ],
   "source": [
    "%%sql\n",
    "INSERT INTO CUSTOMERS (ID,NAME,AGE,CITY,SALARY,PHONE)\n",
    "VALUES (1, 'john', 32, 'New York', 2000.00, '+1-813-908-1223');\n",
    "\n",
    "INSERT INTO CUSTOMERS (ID,NAME,AGE,CITY,SALARY,PHONE)\n",
    "VALUES (2, 'Khilan', 25, 'Delhi', 1500.00, '9441150703');\n",
    "\n",
    "INSERT INTO CUSTOMERS (ID,NAME,AGE,CITY,SALARY,PHONE)\n",
    "VALUES (3, 'kaushik', 23, 'Kota', 2000.00,'9775513359');"
   ]
  },
  {
   "cell_type": "code",
   "execution_count": 36,
   "id": "a28fd3a7",
   "metadata": {},
   "outputs": [
    {
     "name": "stdout",
     "output_type": "stream",
     "text": [
      " * sqlite://\n",
      "Done.\n"
     ]
    },
    {
     "data": {
      "text/html": [
       "<table>\n",
       "    <thead>\n",
       "        <tr>\n",
       "            <th>ID</th>\n",
       "            <th>NAME</th>\n",
       "            <th>AGE</th>\n",
       "            <th>CITY</th>\n",
       "            <th>SALARY</th>\n",
       "            <th>PHONE</th>\n",
       "        </tr>\n",
       "    </thead>\n",
       "    <tbody>\n",
       "        <tr>\n",
       "            <td>1</td>\n",
       "            <td>john</td>\n",
       "            <td>32</td>\n",
       "            <td>New York</td>\n",
       "            <td>2000</td>\n",
       "            <td>+1-813-908-1223</td>\n",
       "        </tr>\n",
       "        <tr>\n",
       "            <td>2</td>\n",
       "            <td>Khilan</td>\n",
       "            <td>25</td>\n",
       "            <td>Delhi</td>\n",
       "            <td>1500</td>\n",
       "            <td>9441150703</td>\n",
       "        </tr>\n",
       "        <tr>\n",
       "            <td>3</td>\n",
       "            <td>kaushik</td>\n",
       "            <td>23</td>\n",
       "            <td>Kota</td>\n",
       "            <td>2000</td>\n",
       "            <td>9775513359</td>\n",
       "        </tr>\n",
       "    </tbody>\n",
       "</table>"
      ],
      "text/plain": [
       "[(1, 'john', 32, 'New York', 2000, '+1-813-908-1223'),\n",
       " (2, 'Khilan', 25, 'Delhi', 1500, '9441150703'),\n",
       " (3, 'kaushik', 23, 'Kota', 2000, '9775513359')]"
      ]
     },
     "execution_count": 36,
     "metadata": {},
     "output_type": "execute_result"
    }
   ],
   "source": [
    "%%sql\n",
    "select * from CUSTOMERS"
   ]
  },
  {
   "cell_type": "code",
   "execution_count": 27,
   "id": "64996009",
   "metadata": {},
   "outputs": [
    {
     "name": "stdout",
     "output_type": "stream",
     "text": [
      " * sqlite://\n",
      "Done.\n"
     ]
    },
    {
     "data": {
      "text/html": [
       "<table>\n",
       "    <thead>\n",
       "        <tr>\n",
       "            <th>ID</th>\n",
       "            <th>NAME</th>\n",
       "            <th>AGE</th>\n",
       "            <th>CITY</th>\n",
       "            <th>SALARY</th>\n",
       "            <th>PHONE</th>\n",
       "        </tr>\n",
       "    </thead>\n",
       "    <tbody>\n",
       "        <tr>\n",
       "            <td>1</td>\n",
       "            <td>john</td>\n",
       "            <td>32</td>\n",
       "            <td>New York</td>\n",
       "            <td>2000</td>\n",
       "            <td>+1-813-908-1223</td>\n",
       "        </tr>\n",
       "    </tbody>\n",
       "</table>"
      ],
      "text/plain": [
       "[(1, 'john', 32, 'New York', 2000, '+1-813-908-1223')]"
      ]
     },
     "execution_count": 27,
     "metadata": {},
     "output_type": "execute_result"
    }
   ],
   "source": [
    "%%sql\n",
    "select * from CUSTOMERS where city = 'New York'"
   ]
  },
  {
   "cell_type": "code",
   "execution_count": 8,
   "id": "73502184",
   "metadata": {},
   "outputs": [
    {
     "name": "stdout",
     "output_type": "stream",
     "text": [
      " * sqlite://\n",
      "Done.\n"
     ]
    },
    {
     "data": {
      "text/plain": [
       "[]"
      ]
     },
     "execution_count": 8,
     "metadata": {},
     "output_type": "execute_result"
    }
   ],
   "source": [
    "%%sql\n",
    "CREATE TABLE users (\n",
    "  id INT PRIMARY KEY,\n",
    "  username VARCHAR(50),\n",
    "  email VARCHAR(100),\n",
    "  RegistrationDate DATE,\n",
    "  DateOfBirth DATE,\n",
    "  full_name VARCHAR(100),\n",
    "  address VARCHAR(200),\n",
    "  phone_number VARCHAR(20)\n",
    ");"
   ]
  },
  {
   "cell_type": "code",
   "execution_count": 9,
   "id": "89958987",
   "metadata": {},
   "outputs": [
    {
     "name": "stdout",
     "output_type": "stream",
     "text": [
      " * sqlite://\n",
      "3 rows affected.\n"
     ]
    },
    {
     "data": {
      "text/plain": [
       "[]"
      ]
     },
     "execution_count": 9,
     "metadata": {},
     "output_type": "execute_result"
    }
   ],
   "source": [
    "%%sql\n",
    "INSERT INTO users (id, username, email, RegistrationDate, DateOfBirth, full_name, address, phone_number)\n",
    "VALUES\n",
    "  (1, 'johnDoe', 'johndoe@example.com', '2022-01-15', '1990-05-20', 'John Doe', '123 Main St', '555-1234'),\n",
    "  (2, 'janeSmith', 'janesmith@example.com', '2022-02-20', '1988-09-10', 'Jane Smith', '456 Elm St', '555-5678'),\n",
    "  (3, 'bobJohnson', 'bobjohnson@example.com', '2022-03-25', '1995-12-01', 'Bob Johnson', '789 Oak St', '555-9101');\n"
   ]
  },
  {
   "cell_type": "code",
   "execution_count": 11,
   "id": "c937dc23",
   "metadata": {},
   "outputs": [
    {
     "name": "stdout",
     "output_type": "stream",
     "text": [
      " * sqlite://\n",
      "Done.\n"
     ]
    },
    {
     "data": {
      "text/html": [
       "<table>\n",
       "    <thead>\n",
       "        <tr>\n",
       "            <th>id</th>\n",
       "            <th>username</th>\n",
       "            <th>email</th>\n",
       "            <th>RegistrationDate</th>\n",
       "            <th>DateOfBirth</th>\n",
       "            <th>full_name</th>\n",
       "            <th>address</th>\n",
       "            <th>phone_number</th>\n",
       "        </tr>\n",
       "    </thead>\n",
       "    <tbody>\n",
       "        <tr>\n",
       "            <td>3</td>\n",
       "            <td>bobJohnson</td>\n",
       "            <td>bobjohnson@example.com</td>\n",
       "            <td>2022-03-25</td>\n",
       "            <td>1995-12-01</td>\n",
       "            <td>Bob Johnson</td>\n",
       "            <td>789 Oak St</td>\n",
       "            <td>555-9101</td>\n",
       "        </tr>\n",
       "        <tr>\n",
       "            <td>1</td>\n",
       "            <td>johnDoe</td>\n",
       "            <td>johndoe@example.com</td>\n",
       "            <td>2022-01-15</td>\n",
       "            <td>1990-05-20</td>\n",
       "            <td>John Doe</td>\n",
       "            <td>123 Main St</td>\n",
       "            <td>555-1234</td>\n",
       "        </tr>\n",
       "        <tr>\n",
       "            <td>2</td>\n",
       "            <td>janeSmith</td>\n",
       "            <td>janesmith@example.com</td>\n",
       "            <td>2022-02-20</td>\n",
       "            <td>1988-09-10</td>\n",
       "            <td>Jane Smith</td>\n",
       "            <td>456 Elm St</td>\n",
       "            <td>555-5678</td>\n",
       "        </tr>\n",
       "    </tbody>\n",
       "</table>"
      ],
      "text/plain": [
       "[(3, 'bobJohnson', 'bobjohnson@example.com', '2022-03-25', '1995-12-01', 'Bob Johnson', '789 Oak St', '555-9101'),\n",
       " (1, 'johnDoe', 'johndoe@example.com', '2022-01-15', '1990-05-20', 'John Doe', '123 Main St', '555-1234'),\n",
       " (2, 'janeSmith', 'janesmith@example.com', '2022-02-20', '1988-09-10', 'Jane Smith', '456 Elm St', '555-5678')]"
      ]
     },
     "execution_count": 11,
     "metadata": {},
     "output_type": "execute_result"
    }
   ],
   "source": [
    "%%sql\n",
    "SELECT * FROM Users ORDER BY DateOfBirth DESC;"
   ]
  },
  {
   "cell_type": "code",
   "execution_count": 15,
   "id": "44828139",
   "metadata": {},
   "outputs": [
    {
     "name": "stdout",
     "output_type": "stream",
     "text": [
      " * sqlite://\n",
      "Done.\n"
     ]
    },
    {
     "data": {
      "text/html": [
       "<table>\n",
       "    <thead>\n",
       "        <tr>\n",
       "            <th>salary</th>\n",
       "            <th>ename</th>\n",
       "            <th>job</th>\n",
       "        </tr>\n",
       "    </thead>\n",
       "    <tbody>\n",
       "        <tr>\n",
       "            <td>2975</td>\n",
       "            <td>JONES</td>\n",
       "            <td>MANAGER</td>\n",
       "        </tr>\n",
       "    </tbody>\n",
       "</table>"
      ],
      "text/plain": [
       "[(2975, 'JONES', 'MANAGER')]"
      ]
     },
     "execution_count": 15,
     "metadata": {},
     "output_type": "execute_result"
    }
   ],
   "source": [
    "%%sql\n",
    "select max(sal) as salary,ename, job from employees"
   ]
  },
  {
   "cell_type": "code",
   "execution_count": 19,
   "id": "9683c44b",
   "metadata": {},
   "outputs": [
    {
     "name": "stdout",
     "output_type": "stream",
     "text": [
      " * sqlite://\n",
      "Done.\n"
     ]
    },
    {
     "data": {
      "text/html": [
       "<table>\n",
       "    <thead>\n",
       "        <tr>\n",
       "            <th>ID</th>\n",
       "            <th>NAME</th>\n",
       "            <th>AGE</th>\n",
       "            <th>CITY</th>\n",
       "            <th>SALARY</th>\n",
       "            <th>PHONE</th>\n",
       "        </tr>\n",
       "    </thead>\n",
       "    <tbody>\n",
       "        <tr>\n",
       "            <td>1</td>\n",
       "            <td>john</td>\n",
       "            <td>32</td>\n",
       "            <td>New York</td>\n",
       "            <td>2000</td>\n",
       "            <td>+1-813-908-1223</td>\n",
       "        </tr>\n",
       "    </tbody>\n",
       "</table>"
      ],
      "text/plain": [
       "[(1, 'john', 32, 'New York', 2000, '+1-813-908-1223')]"
      ]
     },
     "execution_count": 19,
     "metadata": {},
     "output_type": "execute_result"
    }
   ],
   "source": [
    "%%sql\n",
    "SELECT * FROM Customers WHERE Phone LIKE '+1-___-___-____';"
   ]
  },
  {
   "cell_type": "code",
   "execution_count": 23,
   "id": "f558c87a",
   "metadata": {},
   "outputs": [
    {
     "name": "stdout",
     "output_type": "stream",
     "text": [
      " * sqlite://\n",
      "Done.\n",
      "5 rows affected.\n",
      "Done.\n"
     ]
    },
    {
     "data": {
      "text/html": [
       "<table>\n",
       "    <thead>\n",
       "        <tr>\n",
       "            <th>NAME</th>\n",
       "            <th>total_purchase_amount</th>\n",
       "        </tr>\n",
       "    </thead>\n",
       "    <tbody>\n",
       "        <tr>\n",
       "            <td>Khilan</td>\n",
       "            <td>201.25</td>\n",
       "        </tr>\n",
       "        <tr>\n",
       "            <td>kaushik</td>\n",
       "            <td>200</td>\n",
       "        </tr>\n",
       "        <tr>\n",
       "            <td>john</td>\n",
       "            <td>175.25</td>\n",
       "        </tr>\n",
       "    </tbody>\n",
       "</table>"
      ],
      "text/plain": [
       "[('Khilan', 201.25), ('kaushik', 200), ('john', 175.25)]"
      ]
     },
     "execution_count": 23,
     "metadata": {},
     "output_type": "execute_result"
    }
   ],
   "source": [
    "%%sql\n",
    "CREATE TABLE Orders (\n",
    "  id INT PRIMARY KEY,\n",
    "  customer_id INT,\n",
    "  purchase_amount DECIMAL(10,2),\n",
    "  order_date DATE,\n",
    "  FOREIGN KEY (customer_id) REFERENCES Customers(id)\n",
    ");\n",
    "\n",
    "INSERT INTO Orders (id, customer_id, purchase_amount, order_date)\n",
    "VALUES\n",
    "  (1, 1, 100.00, '2022-01-15'),\n",
    "  (2, 2, 150.50, '2022-02-20'),\n",
    "  (3, 1, 75.25, '2022-02-25'),\n",
    "  (4, 3, 200.00, '2022-03-10'),\n",
    "  (5, 2, 50.75, '2022-03-15');\n",
    "\n",
    "\n",
    "SELECT c.name, SUM(o.purchase_amount) AS total_purchase_amount\n",
    "FROM Orders o INNER JOIN Customers c \n",
    "ON o.customer_id = c.id\n",
    "GROUP BY c.name\n",
    "ORDER BY total_purchase_amount DESC\n",
    "LIMIT 5;"
   ]
  },
  {
   "cell_type": "code",
   "execution_count": 24,
   "id": "4a870cfe",
   "metadata": {},
   "outputs": [
    {
     "name": "stdout",
     "output_type": "stream",
     "text": [
      " * sqlite://\n",
      "Done.\n",
      "5 rows affected.\n",
      "Done.\n"
     ]
    },
    {
     "data": {
      "text/html": [
       "<table>\n",
       "    <thead>\n",
       "        <tr>\n",
       "            <th>category_name</th>\n",
       "            <th>total_sales_amount</th>\n",
       "            <th>sales_percentage</th>\n",
       "        </tr>\n",
       "    </thead>\n",
       "    <tbody>\n",
       "        <tr>\n",
       "            <td>Books</td>\n",
       "            <td>300</td>\n",
       "            <td>10.16432322547857</td>\n",
       "        </tr>\n",
       "        <tr>\n",
       "            <td>Clothing</td>\n",
       "            <td>500.5</td>\n",
       "            <td>16.957479247840084</td>\n",
       "        </tr>\n",
       "        <tr>\n",
       "            <td>Electronics</td>\n",
       "            <td>1000</td>\n",
       "            <td>33.8810774182619</td>\n",
       "        </tr>\n",
       "        <tr>\n",
       "            <td>Home Appliances</td>\n",
       "            <td>750.25</td>\n",
       "            <td>25.419278333050993</td>\n",
       "        </tr>\n",
       "        <tr>\n",
       "            <td>Sports Equipment</td>\n",
       "            <td>400.75</td>\n",
       "            <td>13.577841775368457</td>\n",
       "        </tr>\n",
       "    </tbody>\n",
       "</table>"
      ],
      "text/plain": [
       "[('Books', 300, 10.16432322547857),\n",
       " ('Clothing', 500.5, 16.957479247840084),\n",
       " ('Electronics', 1000, 33.8810774182619),\n",
       " ('Home Appliances', 750.25, 25.419278333050993),\n",
       " ('Sports Equipment', 400.75, 13.577841775368457)]"
      ]
     },
     "execution_count": 24,
     "metadata": {},
     "output_type": "execute_result"
    }
   ],
   "source": [
    "%%sql\n",
    "CREATE TABLE Sales (\n",
    "  id INT PRIMARY KEY,\n",
    "  category_name VARCHAR(100),\n",
    "  sales_amount DECIMAL(10,2)\n",
    ");\n",
    "\n",
    "INSERT INTO Sales (id, category_name, sales_amount)\n",
    "VALUES\n",
    "  (1, 'Electronics', 1000.00),\n",
    "  (2, 'Clothing', 500.50),\n",
    "  (3, 'Home Appliances', 750.25),\n",
    "  (4, 'Books', 300.00),\n",
    "  (5, 'Sports Equipment', 400.75);\n",
    "\n",
    "SELECT\n",
    "    category_name,\n",
    "    SUM(sales_amount) AS total_sales_amount,\n",
    "    (SUM(sales_amount) / (SELECT SUM(sales_amount) FROM Sales)) * 100 AS sales_percentage\n",
    "FROM\n",
    "    Sales\n",
    "GROUP BY\n",
    "    category_name;"
   ]
  },
  {
   "cell_type": "code",
   "execution_count": 26,
   "id": "cde940a5",
   "metadata": {},
   "outputs": [
    {
     "name": "stdout",
     "output_type": "stream",
     "text": [
      " * sqlite://\n",
      "Done.\n",
      "3 rows affected.\n",
      "Done.\n"
     ]
    },
    {
     "data": {
      "text/html": [
       "<table>\n",
       "    <thead>\n",
       "        <tr>\n",
       "            <th>name</th>\n",
       "            <th>email</th>\n",
       "            <th>total_purchase_amount</th>\n",
       "        </tr>\n",
       "    </thead>\n",
       "    <tbody>\n",
       "        <tr>\n",
       "            <td>Jane Smith</td>\n",
       "            <td>janesmith@example.com</td>\n",
       "            <td>201.25</td>\n",
       "        </tr>\n",
       "    </tbody>\n",
       "</table>"
      ],
      "text/plain": [
       "[('Jane Smith', 'janesmith@example.com', 201.25)]"
      ]
     },
     "execution_count": 26,
     "metadata": {},
     "output_type": "execute_result"
    }
   ],
   "source": [
    "%%sql\n",
    "\n",
    "CREATE TABLE Customers1 (\n",
    "  id INT PRIMARY KEY,\n",
    "  name VARCHAR(100),\n",
    "  email VARCHAR(100),\n",
    "  phone VARCHAR(20),\n",
    "  address VARCHAR(200)\n",
    ");\n",
    "\n",
    "INSERT INTO Customers1 (id, name, email, phone, address)\n",
    "VALUES\n",
    "  (1, 'John Doe', 'johndoe@example.com', '555-1234', '123 Main St'),\n",
    "  (2, 'Jane Smith', 'janesmith@example.com', '555-5678', '456 Elm St'),\n",
    "  (3, 'Bob Johnson', 'bobjohnson@example.com', '555-9101', '789 Oak St');\n",
    "\n",
    "SELECT\n",
    "    c.name,\n",
    "    c.email,\n",
    "    SUM(o.purchase_amount) AS total_purchase_amount\n",
    "FROM\n",
    "    Orders o\n",
    "    JOIN Customers1 c ON o.customer_id = c.id\n",
    "GROUP BY\n",
    "    c.name,\n",
    "    c.email\n",
    "HAVING\n",
    "    SUM(o.purchase_amount) = (\n",
    "        SELECT MAX(total_purchase)\n",
    "        FROM (\n",
    "            SELECT SUM(purchase_amount) AS total_purchase\n",
    "            FROM Orders\n",
    "            GROUP BY customer_id\n",
    "        ) AS purchases\n",
    "    );"
   ]
  },
  {
   "cell_type": "code",
   "execution_count": null,
   "id": "e227b7dc",
   "metadata": {},
   "outputs": [],
   "source": []
  }
 ],
 "metadata": {
  "kernelspec": {
   "display_name": "Python 3 (ipykernel)",
   "language": "python",
   "name": "python3"
  },
  "language_info": {
   "codemirror_mode": {
    "name": "ipython",
    "version": 3
   },
   "file_extension": ".py",
   "mimetype": "text/x-python",
   "name": "python",
   "nbconvert_exporter": "python",
   "pygments_lexer": "ipython3",
   "version": "3.10.9"
  }
 },
 "nbformat": 4,
 "nbformat_minor": 5
}
